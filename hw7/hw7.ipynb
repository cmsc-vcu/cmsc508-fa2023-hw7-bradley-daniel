{
  "cells": [
    {
      "cell_type": "raw",
      "metadata": {},
      "source": [
        "---\n",
        "title: Homework 7 - Creating a resume database\n",
        "author: Bradley Daniel\n",
        "date: last-modified\n",
        "format:\n",
        "    html:\n",
        "        theme: cosmo\n",
        "        toc: true\n",
        "        embed-resources: true\n",
        "        code-copy: true\n",
        "---"
      ],
      "id": "72e5c3df"
    },
    {
      "cell_type": "markdown",
      "metadata": {},
      "source": [
        "This a document that is create a showing test queries for learning sql and the python libaraies.\n",
        "\n",
        "GITHUB URL:  <https://github.com/cmsc-vcu/cmsc508-fa2023-hw7-bradley-daniel>\n"
      ],
      "id": "e4218790"
    },
    {
      "cell_type": "code",
      "metadata": {},
      "source": [
        "#| eval: true\n",
        "#| echo: false\n",
        "import os\n",
        "import sys\n",
        "import pandas as pd\n",
        "from tabulate import tabulate\n",
        "from dotenv import load_dotenv\n",
        "from sqlalchemy import create_engine, text\n",
        "from sqlalchemy.exc import NoSuchModuleError, OperationalError, ProgrammingError, ArgumentError\n",
        "from IPython.display import display\n",
        "from IPython.core.display import Markdown"
      ],
      "id": "33e963be",
      "execution_count": null,
      "outputs": []
    },
    {
      "cell_type": "code",
      "metadata": {},
      "source": [
        "#| eval: true\n",
        "#| echo: false\n",
        "\n",
        "# modify config_map to reflect credentials needed by this program\n",
        "config_map = {\n",
        "    'user':'CMSC508_USER',\n",
        "    'password':'CMSC508_PASSWORD',\n",
        "    'host':'CMSC508_HOST',\n",
        "    'database':'HW7_DB_NAME'\n",
        "}\n",
        "# load and store credentials\n",
        "load_dotenv()\n",
        "config = {}\n",
        "for key in config_map.keys():\n",
        "    config[key] = os.getenv(config_map[key])\n",
        "flag = False\n",
        "for param in config.keys():\n",
        "    if config[param] is None:\n",
        "        flag = True\n",
        "        print(f\"Missing {config_map[param]} in .env file\")\n",
        "#if flag:\n",
        "#    sys.exit(1)"
      ],
      "id": "9d3c6e64",
      "execution_count": null,
      "outputs": []
    },
    {
      "cell_type": "code",
      "metadata": {},
      "source": [
        "#| eval: true\n",
        "#| echo: false\n",
        "\n",
        "# build a sqlalchemy engine string\n",
        "engine_uri = f\"mysql+pymysql://{config['user']}:{config['password']}@{config['host']}/{config['database']}\"\n",
        "\n",
        "# create a database connection.  THIS IS THE ACTUAL CONNECTION!\n",
        "try:\n",
        "    cnx = create_engine(engine_uri)\n",
        "except ArgumentError as e:\n",
        "    if e == NoSuchModuleError:\n",
        "        print(f\"create_engine: No Such Module Error: {e}\")\n",
        "    print(f\"create_engine: Argument Error: {e}\")\n",
        "    sys.exit(1)\n",
        "except Exception as e:\n",
        "    print(f\"create_engine: An error occurred: {e}\")\n",
        "    sys.exit(1)"
      ],
      "id": "6a453781",
      "execution_count": null,
      "outputs": []
    },
    {
      "cell_type": "code",
      "metadata": {},
      "source": [
        "#| echo: false\n",
        "#| eval: true\n",
        "\n",
        "# Do a quick test of the connection and trap the errors better!\n",
        "try:\n",
        "    databases = pd.read_sql(\"show databases\",cnx)\n",
        "except ImportError as e:\n",
        "    print(f\"Error: {e}\")\n",
        "except OperationalError as e:\n",
        "    print(f\"Database/SQL Error:\\n{str(e)}\\n\")\n",
        "except ProgrammingError as e:\n",
        "    print(f\"Programming Error:\\n{str(e)}\\n\")\n",
        "except Exception as e:\n",
        "    print(f\"An error occurred:\\n{str(e)}\\n\")"
      ],
      "id": "bc49bd63",
      "execution_count": null,
      "outputs": []
    },
    {
      "cell_type": "markdown",
      "metadata": {},
      "source": [
        "## Overview and description\n",
        "\n",
        "This is a database that store data about skils which people have those skills. It also stores roles and the people that have those roles.\n",
        "\n",
        "## Crows-foot diagram\n",
        "\n",
        "This is a Crows-foot diagram of the database showing the relations between people and roles and skills.\n",
        "\n",
        "\n",
        "```{mermaid}\n",
        "%%| echo: false\n",
        "erDiagram\n",
        "    People  {\n",
        "        int id \n",
        "        string first_name \n",
        "        string last_name\n",
        "        string email \n",
        "        string linkedin_url\n",
        "        string headshot_url \n",
        "        string dicord_handle\n",
        "        string brief_bio\n",
        "        date date_joined\n",
        "    }\n",
        "    Skills {\n",
        "        int id\n",
        "        string name\n",
        "        string description\n",
        "        string tag\n",
        "        date required_time\n",
        "    }\n",
        "    Roles {\n",
        "        int id \n",
        "        string name \n",
        "        int sort_priority\n",
        "    }\n",
        "    People }o--o{ Skills : has\n",
        "    People }o--o{ Roles : has\n",
        "```\n",
        "\n",
        "\n",
        "## Examples of data in the database\n",
        "\n",
        "For the people, skills, and roles tables, provide a description of each table and it's contents. Then provide a listing of the entire table.\n",
        "\n",
        "### People table\n",
        "\n",
        "The *people* table contains elements that describe ... \n",
        "\n",
        "Below is a list of data in the *people* table.\n"
      ],
      "id": "6b5ec02f"
    },
    {
      "cell_type": "code",
      "metadata": {},
      "source": [
        "#| echo: false\n",
        "#| eval: true\n",
        "sql = f\"\"\"\n",
        "select * from people;\n",
        "\"\"\"\n",
        "## Add code to list roles table here\n",
        "try:\n",
        "    df = pd.read_sql(sql,cnx)\n",
        "    df\n",
        "except Exception as e:\n",
        "    message = str(e)\n",
        "    print(f\"An error occurred:\\n\\n{message}\\n\\nIgnoring and moving on.\")\n",
        "    df = pd.DataFrame()\n",
        "df"
      ],
      "id": "8fba72eb",
      "execution_count": null,
      "outputs": []
    },
    {
      "cell_type": "markdown",
      "metadata": {},
      "source": [
        "### Skills table\n",
        "\n",
        "The *skills* table contains elements that describe ... \n",
        "\n",
        "Below is a list of data in the *skills* table.\n"
      ],
      "id": "90137c2e"
    },
    {
      "cell_type": "code",
      "metadata": {},
      "source": [
        "#| echo: false\n",
        "#| eval: true\n",
        "\n",
        "## Add code to list roles table here"
      ],
      "id": "ebefab56",
      "execution_count": null,
      "outputs": []
    },
    {
      "cell_type": "markdown",
      "metadata": {},
      "source": [
        "### Roles table\n",
        "\n",
        "The *roles* table contains elements that describe ... \n",
        "\n",
        "Below is a list of data in the *roles* table.\n"
      ],
      "id": "3c29efa6"
    },
    {
      "cell_type": "code",
      "metadata": {},
      "source": [
        "#| echo: false\n",
        "#| eval: true\n",
        "\n",
        "## Add code to list roles table here"
      ],
      "id": "c252495e",
      "execution_count": null,
      "outputs": []
    },
    {
      "cell_type": "markdown",
      "metadata": {},
      "source": [
        "## Sample queries\n",
        "\n",
        "Let's explore the database!\n",
        "\n",
        "# List skill names, tags, and descriptions ordered by name\n",
        "\n",
        "(here a sample query)\n"
      ],
      "id": "36c838d5"
    },
    {
      "cell_type": "code",
      "metadata": {},
      "source": [
        "sql = f\"\"\"\n",
        "select * from people\n",
        "\"\"\""
      ],
      "id": "e5662cc7",
      "execution_count": null,
      "outputs": []
    },
    {
      "cell_type": "markdown",
      "metadata": {},
      "source": [
        "(and here is a sample result from the query)\n"
      ],
      "id": "3f141abd"
    },
    {
      "cell_type": "code",
      "metadata": {},
      "source": [
        "#| echo: false\n",
        "#| eval: true\n",
        "try:\n",
        "    df = pd.read_sql(sql,cnx)\n",
        "    df\n",
        "except Exception as e:\n",
        "    message = str(e)\n",
        "    print(f\"An error occurred:\\n\\n{message}\\n\\nIgnoring and moving on.\")\n",
        "    df = pd.DataFrame()\n",
        "df"
      ],
      "id": "126ce15b",
      "execution_count": null,
      "outputs": []
    },
    {
      "cell_type": "code",
      "metadata": {},
      "source": [
        "#| echo: false\n",
        "#| eval: true\n",
        "def query_database(sql):\n",
        "    try:\n",
        "        df = pd.read_sql(sql,cnx)\n",
        "    except Exception as e:\n",
        "        message = str(e)\n",
        "        print(f\"An error occurred:\\n\\n{message}\\n\\nIgnoring and moving on.\")\n",
        "        df = pd.DataFrame()\n",
        "    return df\n"
      ],
      "id": "08b45187",
      "execution_count": null,
      "outputs": []
    },
    {
      "cell_type": "markdown",
      "metadata": {},
      "source": [
        "### List people names and email addresses ordered by last_name\n"
      ],
      "id": "f3da52b4"
    },
    {
      "cell_type": "code",
      "metadata": {},
      "source": [
        "sql = f\"\"\"\n",
        "select first_name, last_name from people ORDER BY last_name\n",
        "\"\"\""
      ],
      "id": "6751dcf0",
      "execution_count": null,
      "outputs": []
    },
    {
      "cell_type": "code",
      "metadata": {},
      "source": [
        "#| echo: false\n",
        "#| eval: true\n",
        "query_database(sql)"
      ],
      "id": "54578f0b",
      "execution_count": null,
      "outputs": []
    },
    {
      "cell_type": "markdown",
      "metadata": {},
      "source": [
        "### List skill names of Person 1\n"
      ],
      "id": "d20eb2a8"
    },
    {
      "cell_type": "code",
      "metadata": {},
      "source": [
        "sql = f\"\"\"\n",
        "select \n",
        "    skills.name 'person_1_skills_names' \n",
        "from \n",
        "    people\n",
        "    inner join peopleskills on (people.id=peopleskills.people_id)\n",
        "    inner join skills on (peopleskills.skills_id=skills.id)\n",
        "where \n",
        "    people.last_name='Person 1';\n",
        "\"\"\""
      ],
      "id": "162457a5",
      "execution_count": null,
      "outputs": []
    },
    {
      "cell_type": "code",
      "metadata": {},
      "source": [
        "#| echo: false\n",
        "#| eval: true\n",
        "query_database(sql)"
      ],
      "id": "a6fedeaa",
      "execution_count": null,
      "outputs": []
    },
    {
      "cell_type": "markdown",
      "metadata": {},
      "source": [
        "### List people names with Skill 6"
      ],
      "id": "7c22b5ca"
    },
    {
      "cell_type": "code",
      "metadata": {},
      "source": [
        "sql = f\"\"\"\n",
        "select \n",
        "    first_name, last_name\n",
        "from \n",
        "    people\n",
        "    inner join peopleskills on (people.id=peopleskills.people_id)\n",
        "    inner join skills on (peopleskills.skills_id=skills.id)\n",
        "where \n",
        "    skills.tag='Skill_6';\n",
        "\"\"\""
      ],
      "id": "ef99ad4d",
      "execution_count": null,
      "outputs": []
    },
    {
      "cell_type": "code",
      "metadata": {},
      "source": [
        "#| echo: false\n",
        "#| eval: true\n",
        "query_database(sql)"
      ],
      "id": "aa5465b8",
      "execution_count": null,
      "outputs": []
    },
    {
      "cell_type": "markdown",
      "metadata": {},
      "source": [
        "### List people with a DEVELOPER role\n"
      ],
      "id": "75854859"
    },
    {
      "cell_type": "code",
      "metadata": {},
      "source": [
        "sql = f\"\"\"\n",
        "select \n",
        "    first_name, last_name\n",
        "from \n",
        "    people\n",
        "    inner join peopleroles on (people.id=peopleroles.people_id)\n",
        "    inner join roles on (peopleroles.role_id=roles.id)\n",
        "where \n",
        "    roles.name='Developer'\n",
        "\"\"\""
      ],
      "id": "8d1ea12b",
      "execution_count": null,
      "outputs": []
    },
    {
      "cell_type": "code",
      "metadata": {},
      "source": [
        "#| echo: false\n",
        "#| eval: true\n",
        "query_database(sql)"
      ],
      "id": "d4b8e88e",
      "execution_count": null,
      "outputs": []
    },
    {
      "cell_type": "markdown",
      "metadata": {},
      "source": [
        "### List names and email addresses of people without skills\n"
      ],
      "id": "a2016edc"
    },
    {
      "cell_type": "code",
      "metadata": {},
      "source": [
        "sql = f\"\"\"\n",
        "select \n",
        "    first_name, last_name, email\n",
        "from \n",
        "    people\n",
        "    left join peopleskills on (people.id=peopleskills.people_id)\n",
        "where \n",
        "    peopleskills.skills_id is NULL;\n",
        "\"\"\""
      ],
      "id": "fd45437f",
      "execution_count": null,
      "outputs": []
    },
    {
      "cell_type": "code",
      "metadata": {},
      "source": [
        "#| echo: false\n",
        "#| eval: true\n",
        "query_database(sql)"
      ],
      "id": "13fb5442",
      "execution_count": null,
      "outputs": []
    },
    {
      "cell_type": "markdown",
      "metadata": {},
      "source": [
        "### List names and tags of unused skills\n"
      ],
      "id": "7acd4d13"
    },
    {
      "cell_type": "code",
      "metadata": {},
      "source": [
        "sql = f\"\"\"\n",
        "select \n",
        "    skills.name, skills.tag\n",
        "from \n",
        "    skills\n",
        "    left join peopleskills on (skills.id=peopleskills.skills_id)\n",
        "where \n",
        "    peopleskills.people_id is NULL;\n",
        "\"\"\""
      ],
      "id": "ccc3e944",
      "execution_count": null,
      "outputs": []
    },
    {
      "cell_type": "code",
      "metadata": {},
      "source": [
        "#| echo: false\n",
        "#| eval: true\n",
        "query_database(sql)"
      ],
      "id": "f8eab0f4",
      "execution_count": null,
      "outputs": []
    },
    {
      "cell_type": "markdown",
      "metadata": {},
      "source": [
        "### List people names and skill names with the BOSS role\n"
      ],
      "id": "fd9bd2e1"
    },
    {
      "cell_type": "code",
      "metadata": {},
      "source": [
        "sql = f\"\"\"\n",
        "# select first_name, last_name from people ORDER BY last_name\n",
        "select \n",
        "    people.first_name, people.last_name, skills.name skill_name\n",
        "from \n",
        "    people\n",
        "    inner join peopleroles on (people.id=peopleroles.people_id)\n",
        "    inner join roles on (peopleroles.role_id=roles.id)\n",
        "    inner join peopleskills on (people.id=peopleskills.people_id)\n",
        "    inner join skills on (peopleskills.skills_id=skills.id)\n",
        "where \n",
        "    roles.name=\"Boss\";\n",
        "\"\"\""
      ],
      "id": "b08e241e",
      "execution_count": null,
      "outputs": []
    },
    {
      "cell_type": "code",
      "metadata": {},
      "source": [
        "#| echo: false\n",
        "#| eval: true\n",
        "query_database(sql)"
      ],
      "id": "7f564703",
      "execution_count": null,
      "outputs": []
    },
    {
      "cell_type": "markdown",
      "metadata": {},
      "source": [
        "### List ids and names of unused roles\n"
      ],
      "id": "97ee1942"
    },
    {
      "cell_type": "code",
      "metadata": {},
      "source": [
        "sql = f\"\"\"\n",
        "select \n",
        "    roles.id, roles.name\n",
        "from \n",
        "    roles\n",
        "    left join peopleroles on (roles.id=peopleroles.role_id)\n",
        "where \n",
        "    peopleroles.people_id is NUll;\n",
        "\"\"\""
      ],
      "id": "2c4b3ddc",
      "execution_count": null,
      "outputs": []
    },
    {
      "cell_type": "code",
      "metadata": {},
      "source": [
        "#| echo: false\n",
        "#| eval: true\n",
        "query_database(sql)"
      ],
      "id": "6dbd6240",
      "execution_count": null,
      "outputs": []
    },
    {
      "cell_type": "markdown",
      "metadata": {},
      "source": [
        "## Reflection\n",
        "\n",
        "I found that writing the SQL statement is much easier than writing relation algebra. It was so nice to be able to just write a query and test it. I can see how this would SQL is a powerful tool after writing my own queries. I did an internship last summer and if I knew SQL it would have made it a lot easier to implement some of the functionality of my summer project.\n"
      ],
      "id": "17eaf60e"
    }
  ],
  "metadata": {
    "kernelspec": {
      "name": "python3",
      "language": "python",
      "display_name": "Python 3 (ipykernel)"
    }
  },
  "nbformat": 4,
  "nbformat_minor": 5
}